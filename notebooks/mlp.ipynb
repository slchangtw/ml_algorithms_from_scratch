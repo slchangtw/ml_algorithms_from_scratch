{
 "cells": [
  {
   "cell_type": "code",
   "execution_count": 1,
   "metadata": {},
   "outputs": [],
   "source": [
    "import abc\n",
    "\n",
    "import numpy as np\n",
    "import matplotlib.pyplot as plt\n",
    "\n",
    "from config import DATA_FOLDER\n",
    "\n",
    "%matplotlib inline"
   ]
  },
  {
   "attachments": {},
   "cell_type": "markdown",
   "metadata": {},
   "source": [
    "# Introduction\n",
    "\n",
    "This notebook shows the implementation of multilayer perceptron (MLP) models with the backpropagation algortithm. To do so, the following classes are defined.\n",
    "\n",
    "1. `Layer`: an abstract class for a layer of a neural network. It defines the basic methods `forward()`  and `backward()`.\n",
    "2. `Inputlayer`: a class that implements the layer that receives the input of the neural network.\n",
    "3. `FullyConnectedLayer`: a class that implements a fully connected layer of a neural network. It shows the update process of weights when activation function is the sigmoid or the hyperbolic tangent.\n",
    "4. `SoftmaxLayer`: a class that implements a output layer (Softmax) of classification neural networks.\n",
    "5. `MLP`: a class that implements a multilayer perceptron (MLP) neural network that takes a list of layers as input. The first layer must be an `InputLayer` and the last one a `SoftmaxLayer`."
   ]
  },
  {
   "cell_type": "code",
   "execution_count": 2,
   "metadata": {},
   "outputs": [],
   "source": [
    "SUPPORTED_ACTIVATION_FUNC = [\"sigmoid\", \"tanh\"]\n",
    "\n",
    "\n",
    "class Layer(metaclass=abc.ABCMeta):\n",
    "    @abc.abstractmethod\n",
    "    def forward(self, input_x: np.array) -> None:\n",
    "        raise NotImplementedError\n",
    "\n",
    "    @abc.abstractmethod\n",
    "    def backward(self):\n",
    "        raise NotImplementedError\n",
    "\n",
    "\n",
    "class FullyConnectedLayer(Layer):\n",
    "    def __init__(\n",
    "        self,\n",
    "        n_input: int,\n",
    "        n_output: int,\n",
    "        random_seed: int = 42,\n",
    "        activation_func: str = \"sigmoid\",\n",
    "        add_noise: bool = False,\n",
    "    ):\n",
    "        self.n_input = n_input\n",
    "        self.n_output = n_output\n",
    "        if activation_func not in SUPPORTED_ACTIVATION_FUNC:\n",
    "            raise ValueError(\n",
    "                f\"activation_func must be either {SUPPORTED_ACTIVATION_FUNC}\"\n",
    "            )\n",
    "        self.activation_func = activation_func\n",
    "        self.add_noise = add_noise\n",
    "\n",
    "        # Xavier Weight Initialization.\n",
    "        bound = np.sqrt(1.0 / self.n_input)\n",
    "        np.random.seed(random_seed)\n",
    "        self.weights = np.random.uniform(\n",
    "            -bound, bound, size=(self.n_input, self.n_output)\n",
    "        )\n",
    "\n",
    "    def _sigmoid(self, x: np.array) -> np.array:\n",
    "        return 1 / (1 + np.exp(-x))\n",
    "\n",
    "    def _tanh(self, x: np.array) -> np.array:\n",
    "        return (np.exp(2 * x) - 1) / (np.exp(2 * x) + 1)\n",
    "\n",
    "    def forward(self, input_x: np.array) -> None:\n",
    "        \"\"\"Implement forward propagation.\"\"\"\n",
    "        if self.add_noise:\n",
    "            input_x += np.random.normal(0, 0.05, size=input_x.shape)\n",
    "\n",
    "        if self.activation_func == \"sigmoid\":\n",
    "            self.out_x = self._sigmoid(input_x.dot(self.weights))\n",
    "        elif self.activation_func == \"tanh\":\n",
    "            self.out_x = self._tanh(input_x.dot(self.weights))\n",
    "\n",
    "    def backward(\n",
    "        self, x_pre: np.array, delta_next: np.array, weights_next: np.array, eta: float\n",
    "    ) -> None:\n",
    "        \"\"\"Implement backward propagation.\"\"\"\n",
    "        if self.activation_func == \"sigmoid\":\n",
    "            self.delta = (\n",
    "                self.out_x * (1 - self.out_x) * np.dot(delta_next, weights_next.T)\n",
    "            )\n",
    "        elif self.activation_func == \"tanh\":\n",
    "            self.delta = (1 - np.square(self._tanh(self.out_x))) * np.dot(\n",
    "                delta_next, weights_next.T\n",
    "            )\n",
    "\n",
    "        self.weights -= eta * x_pre.T.dot(self.delta) / x_pre.shape[0]\n",
    "\n",
    "\n",
    "class InputLayer(Layer):\n",
    "    def forward(self, input_x: np.array) -> None:\n",
    "        self.out_x = input_x\n",
    "\n",
    "    def backward(self) -> None:\n",
    "        pass\n",
    "\n",
    "\n",
    "class Softmax(Layer):\n",
    "    def __init__(self, n_input: int, n_output: int, random_seed: int = 42):\n",
    "        self.n_input = n_input\n",
    "        self.n_output = n_output\n",
    "\n",
    "        # Xavier Weight Initialization.\n",
    "        bound = np.sqrt(1.0 / self.n_input)\n",
    "        np.random.seed(random_seed)\n",
    "        self.weights = np.random.uniform(\n",
    "            -bound, bound, size=(self.n_input, self.n_output)\n",
    "        )\n",
    "\n",
    "    def _softmax(self, out_x: np.array) -> np.array:\n",
    "        return np.exp(out_x) / np.sum(np.exp(out_x))\n",
    "\n",
    "    def forward(self, input_x: np.array) -> None:\n",
    "        \"\"\"Implement forward propagation (output layer)\"\"\"\n",
    "        self.out_x = np.dot(input_x, self.weights)\n",
    "\n",
    "    def backward(self, y_true: np.array, x_pre: np.array, eta: float) -> None:\n",
    "        \"\"\"Implement backward propagation (output layer).\"\"\"\n",
    "        pred_proba = self.pred_proba()\n",
    "        # Derivative of cross entropy loss with softmax.\n",
    "        self.delta = pred_proba - y_true\n",
    "\n",
    "        self.weights -= eta * np.dot(x_pre.T, self.delta) / x_pre.shape[0]\n",
    "\n",
    "    def pred_proba(self) -> np.array:\n",
    "        \"\"\"Predict probability of each class.\"\"\"\n",
    "        return np.apply_along_axis(self._softmax, 1, self.out_x)\n",
    "\n",
    "    def predict_label(self) -> np.array:\n",
    "        \"\"\"Predict labels.\"\"\"\n",
    "        pred_proba = self.pred_proba()\n",
    "        return (pred_proba == pred_proba.max(axis=1)[:, None]).astype(int)\n",
    "\n",
    "\n",
    "class MLP:\n",
    "    def __init__(self, layers: list[Layer]):\n",
    "        self.layers = layers\n",
    "\n",
    "    def forward(self, x: np.array) -> None:\n",
    "        \"\"\"Perform forward propagation.\"\"\"\n",
    "        for layer in self.layers:\n",
    "            layer.forward(x)\n",
    "            x = layer.out_x\n",
    "\n",
    "    def backward(self, y_true: np.array, eta: float) -> None:\n",
    "        \"\"\"Perform backward propagation.\"\"\"\n",
    "        for i in range(len(self.layers) - 1, -1, -1):\n",
    "            if isinstance(self.layers[i], Softmax):\n",
    "                self.layers[i].backward(y_true, self.layers[i - 1].out_x, eta)\n",
    "            elif isinstance(self.layers[i], InputLayer):\n",
    "                pass\n",
    "            else:\n",
    "                self.layers[i].backward(\n",
    "                    self.layers[i - 1].out_x,\n",
    "                    self.layers[i + 1].delta,\n",
    "                    self.layers[i + 1].weights,\n",
    "                    eta,\n",
    "                )\n",
    "\n",
    "    def pred_proba(self) -> np.array:\n",
    "        return self.layers[-1].pred_proba()\n",
    "\n",
    "    def predict_label(self) -> np.array:\n",
    "        \"\"\"Predict labels.\"\"\"\n",
    "        return self.layers[-1].predict_label()\n",
    "\n",
    "\n",
    "def mean_square_error(y_true_matrix: np.array, y_pred_matrix: np.array) -> float:\n",
    "    return np.mean(np.square(y_true_matrix - y_pred_matrix))\n",
    "\n",
    "\n",
    "def misclassification_rate(y_true: np.array, y_pred: np.array) -> float:\n",
    "    return sum(y_true != y_pred) / len(y_pred)"
   ]
  },
  {
   "attachments": {},
   "cell_type": "markdown",
   "metadata": {},
   "source": [
    "# Use MLP to solve XOR Problem\n",
    "\n",
    "In this example, we will see how to use a MLP model to solve the [XOR problem](https://www.niser.ac.in/~smishra/teach/cs460/2020/lectures/lec19/#:~:text=The%20XOr%20problem%20is%20that,we%20will%20be%20using%20perceptrons.)."
   ]
  },
  {
   "cell_type": "code",
   "execution_count": 3,
   "metadata": {},
   "outputs": [],
   "source": [
    "# The first column in X is the bias term.\n",
    "X = np.array([[1, 0, 0], [1, 1, 0], [1, 0, 1], [1, 1, 1]])\n",
    "y = np.array([[0, 1], [1, 0], [1, 0], [0, 1]])"
   ]
  },
  {
   "cell_type": "code",
   "execution_count": 4,
   "metadata": {},
   "outputs": [],
   "source": [
    "n_neurons = 2\n",
    "\n",
    "input_layer = InputLayer()\n",
    "fc_layer = FullyConnectedLayer(X.shape[1], n_neurons)\n",
    "output_layer = Softmax(n_neurons, 2)\n",
    "mlp = MLP([input_layer, fc_layer, output_layer])"
   ]
  },
  {
   "cell_type": "code",
   "execution_count": 5,
   "metadata": {},
   "outputs": [
    {
     "name": "stdout",
     "output_type": "stream",
     "text": [
      "Epoch 0: 0.2542057650952129\n",
      "Epoch 5000: 0.06536687001084644\n",
      "Epoch 10000: 0.06321517301084355\n",
      "Epoch 15000: 0.06289594949046522\n",
      "Epoch 20000: 0.06276829921143066\n",
      "Epoch 25000: 0.062699030375915\n",
      "Epoch 30000: 0.06265472642548456\n",
      "Epoch 35000: 0.06262286539479991\n",
      "Epoch 40000: 0.06259728183526422\n",
      "Epoch 45000: 0.06257366530618262\n",
      "Epoch 50000: 0.06254635302615213\n"
     ]
    }
   ],
   "source": [
    "epochs = 55000\n",
    "end_epoch = epochs\n",
    "\n",
    "errors = []\n",
    "for epoch in range(epochs):\n",
    "    mlp.forward(X)\n",
    "    mlp.backward(y, eta=0.4)\n",
    "    errors.append(mean_square_error(y, mlp.pred_proba()))\n",
    "\n",
    "    if epoch % 5000 == 0:\n",
    "        print(f\"Epoch {epoch}: {errors[epoch]}\")\n",
    "\n",
    "    if (\n",
    "        misclassification_rate(\n",
    "            np.argmax(y, axis=1), np.argmax(mlp.predict_label(), axis=1)\n",
    "        )\n",
    "        == 0\n",
    "    ):\n",
    "        end_epoch = epoch\n",
    "        break"
   ]
  },
  {
   "cell_type": "code",
   "execution_count": 6,
   "metadata": {},
   "outputs": [
    {
     "data": {
      "image/png": "[encoded data removed]",
      "text/plain": [
       "<Figure size 640x480 with 1 Axes>"
      ]
     },
     "metadata": {},
     "output_type": "display_data"
    }
   ],
   "source": [
    "plt.plot(errors)\n",
    "plt.xlabel(\"Epoch\")\n",
    "plt.ylabel(\"Mean Square Error\")\n",
    "plt.title(\"Mean Square Error vs Epoch\")\n",
    "plt.show()"
   ]
  },
  {
   "attachments": {},
   "cell_type": "markdown",
   "metadata": {},
   "source": [
    "# Use MLP to classify digits in mfeat-pix dataset\n",
    "\n",
    "1. We will split the training data in mfeat-pix dataset into \"training\" and validation sets to pick better hyperparameters.\n",
    "2. The two datesets will be merged again to train the MLP model with the optimized hyperparameters.\n",
    "3. The model will be tested with the test set."
   ]
  },
  {
   "cell_type": "code",
   "execution_count": 7,
   "metadata": {},
   "outputs": [],
   "source": [
    "# Load data\n",
    "X = np.loadtxt(DATA_FOLDER / \"mfeat-pix.txt\")\n",
    "# Normalize data\n",
    "X = (X - np.mean(X, axis=0)) / np.std(X, axis=0)\n",
    "# Add bias term\n",
    "X = np.column_stack([np.ones(X.shape[0]), X])\n",
    "\n",
    "# Split the dataset into training, validation and test data\n",
    "train_indices = [range(0 + 200 * i, 50 + 200 * i) for i in range(10)]\n",
    "val_indices = [range(50 + 200 * i, 100 + 200 * i) for i in range(10)]\n",
    "test_indices = [range(100 + 200 * i, 200 + 200 * i) for i in range(10)]\n",
    "\n",
    "X_train = X[train_indices,].reshape(500, 241)\n",
    "X_val = X[val_indices,].reshape(500, 241)\n",
    "X_test = X[test_indices,].reshape(1000, 241)\n",
    "\n",
    "# Create class labels for training and validation data.\n",
    "nb_classes = 10\n",
    "y_vector = np.array([i for i in range(10) for j in range(50)])\n",
    "y_matrix = np.eye(nb_classes)[y_vector]"
   ]
  },
  {
   "cell_type": "code",
   "execution_count": 8,
   "metadata": {},
   "outputs": [],
   "source": [
    "neurons_1 = 256\n",
    "neurons_2 = 128\n",
    "neurons_3 = 128\n",
    "input_layer = InputLayer()\n",
    "fc_layer1 = FullyConnectedLayer(\n",
    "    X.shape[1], neurons_1, activation_func=\"tanh\", add_noise=True\n",
    ")\n",
    "fc_layer2 = FullyConnectedLayer(\n",
    "    neurons_1, neurons_2, activation_func=\"tanh\", add_noise=True\n",
    ")\n",
    "fc_layer3 = FullyConnectedLayer(\n",
    "    neurons_2, neurons_3, activation_func=\"tanh\", add_noise=True\n",
    ")\n",
    "output_layer = Softmax(neurons_3, 10)\n",
    "\n",
    "mlp = MLP([input_layer, fc_layer1, fc_layer2, fc_layer3, output_layer])"
   ]
  },
  {
   "cell_type": "code",
   "execution_count": 9,
   "metadata": {},
   "outputs": [
    {
     "name": "stdout",
     "output_type": "stream",
     "text": [
      "Epoch 0: Training MSE: 0.956. Validation MSE: 0.62\n",
      "Epoch 50: Training MSE: 0.008. Validation MSE: 0.048\n",
      "Epoch 100: Training MSE: 0.0. Validation MSE: 0.052\n",
      "Epoch 150: Training MSE: 0.0. Validation MSE: 0.054\n",
      "Epoch 200: Training MSE: 0.0. Validation MSE: 0.048\n",
      "Epoch 250: Training MSE: 0.0. Validation MSE: 0.056\n",
      "Epoch 300: Training MSE: 0.0. Validation MSE: 0.064\n",
      "Epoch 350: Training MSE: 0.0. Validation MSE: 0.058\n",
      "Epoch 400: Training MSE: 0.0. Validation MSE: 0.078\n",
      "Epoch 450: Training MSE: 0.0. Validation MSE: 0.1\n"
     ]
    }
   ],
   "source": [
    "epochs = 500\n",
    "train_miss_rates = []\n",
    "val_miss_rates = []\n",
    "\n",
    "for epoch in range(epochs):\n",
    "    mlp.forward(X_train)\n",
    "    mlp.backward(y_matrix, eta=0.1)\n",
    "    train_miss_rates.append(\n",
    "        misclassification_rate(\n",
    "            np.argmax(y_matrix, axis=1), np.argmax(mlp.predict_label(), axis=1)\n",
    "        )\n",
    "    )\n",
    "    mlp.backward(y_matrix, eta=0.1)\n",
    "\n",
    "    mlp.forward(X_val)\n",
    "    val_miss_rates.append(\n",
    "        misclassification_rate(\n",
    "            np.argmax(y_matrix, axis=1), np.argmax(mlp.predict_label(), axis=1)\n",
    "        )\n",
    "    )\n",
    "\n",
    "    if epoch % 50 == 0:\n",
    "        print(\n",
    "            f\"Epoch {epoch}: Training MSE: {train_miss_rates[epoch]}. Validation MSE: {val_miss_rates[epoch]}\"\n",
    "        )"
   ]
  },
  {
   "attachments": {},
   "cell_type": "markdown",
   "metadata": {},
   "source": [
    "In the plot below, the MSE of the training and validation sets decreased significantly in the first 100 epochs. As the number of epochs increases, the MSE of the validation set increases, which indicates that the model is overfitting. Therefore, the number of epochs for training the final model is set to 100."
   ]
  },
  {
   "cell_type": "code",
   "execution_count": 10,
   "metadata": {},
   "outputs": [
    {
     "name": "stderr",
     "output_type": "stream",
     "text": [
      "/var/folders/6y/37g6x3_d0hv44_f4kt090bxh0000gn/T/ipykernel_2415/3843575077.py:1: RuntimeWarning: divide by zero encountered in log\n",
      "  plt.plot(np.log(train_miss_rates))\n"
     ]
    },
    {
     "data": {
      "image/png": "[encoded data removed]",
      "text/plain": [
       "<Figure size 640x480 with 1 Axes>"
      ]
     },
     "metadata": {},
     "output_type": "display_data"
    }
   ],
   "source": [
    "plt.plot(np.log(train_miss_rates))\n",
    "plt.plot(np.log(val_miss_rates))\n",
    "\n",
    "plt.legend(\n",
    "    [\"Log Mis. Rate (training)\", \"Log Mis. Rate (cv)\"],\n",
    "    loc=\"center left\",\n",
    "    bbox_to_anchor=(1, 0.5),\n",
    ")\n",
    "plt.show()"
   ]
  },
  {
   "cell_type": "code",
   "execution_count": 11,
   "metadata": {},
   "outputs": [],
   "source": [
    "# Merge training and cv dataset\n",
    "train_indices = [range(0 + 200 * i, 100 + 200 * i) for i in range(10)]\n",
    "X_train = X[train_indices,].reshape(1000, 241)\n",
    "\n",
    "# Create class labels for prediction\n",
    "y_vector = np.array([i for i in range(10) for j in range(100)])\n",
    "y_matrix = np.eye(nb_classes)[y_vector]"
   ]
  },
  {
   "cell_type": "code",
   "execution_count": 12,
   "metadata": {},
   "outputs": [],
   "source": [
    "# Reinitialize parameters\n",
    "epochs = 100\n",
    "neurons_1 = 256\n",
    "neurons_2 = 128\n",
    "neurons_3 = 128\n",
    "input_layer = InputLayer()\n",
    "fc_layer1 = FullyConnectedLayer(\n",
    "    X.shape[1], neurons_1, activation_func=\"tanh\", add_noise=True\n",
    ")\n",
    "fc_layer2 = FullyConnectedLayer(\n",
    "    neurons_1, neurons_2, activation_func=\"tanh\", add_noise=True\n",
    ")\n",
    "fc_layer3 = FullyConnectedLayer(\n",
    "    neurons_2, neurons_3, activation_func=\"tanh\", add_noise=True\n",
    ")\n",
    "output_layer = Softmax(neurons_3, 10)\n",
    "\n",
    "mlp = MLP([input_layer, fc_layer1, fc_layer2, fc_layer3, output_layer])"
   ]
  },
  {
   "cell_type": "code",
   "execution_count": 13,
   "metadata": {},
   "outputs": [
    {
     "name": "stdout",
     "output_type": "stream",
     "text": [
      "Epoch 0: Training MSE: 0.946\n",
      "Epoch 10: Training MSE: 0.205\n",
      "Epoch 20: Training MSE: 0.154\n",
      "Epoch 30: Training MSE: 0.078\n",
      "Epoch 40: Training MSE: 0.057\n",
      "Epoch 50: Training MSE: 0.047\n",
      "Epoch 60: Training MSE: 0.039\n",
      "Epoch 70: Training MSE: 0.034\n",
      "Epoch 80: Training MSE: 0.033\n",
      "Epoch 90: Training MSE: 0.025\n"
     ]
    }
   ],
   "source": [
    "train_miss_rates = []\n",
    "\n",
    "for epoch in range(epochs):\n",
    "    mlp.forward(X_train)\n",
    "    mlp.backward(y_matrix, eta=0.1)\n",
    "\n",
    "    train_miss_rates.append(\n",
    "        misclassification_rate(\n",
    "            np.argmax(y_matrix, axis=1), np.argmax(mlp.predict_label(), axis=1)\n",
    "        )\n",
    "    )\n",
    "\n",
    "    if epoch % 10 == 0:\n",
    "        print(f\"Epoch {epoch}: Training MSE: {train_miss_rates[epoch]}\")"
   ]
  },
  {
   "cell_type": "code",
   "execution_count": 14,
   "metadata": {},
   "outputs": [
    {
     "name": "stdout",
     "output_type": "stream",
     "text": [
      "The misclassification rate on the test dataset is: 0.044\n"
     ]
    }
   ],
   "source": [
    "mlp.forward(X_test)\n",
    "test_miss_rate = misclassification_rate(\n",
    "    np.argmax(y_matrix, axis=1), np.argmax(mlp.predict_label(), axis=1)\n",
    ")\n",
    "print(f\"The misclassification rate on the test dataset is: {test_miss_rate:0.02}\")"
   ]
  },
  {
   "cell_type": "code",
   "execution_count": null,
   "metadata": {},
   "outputs": [],
   "source": []
  }
 ],
 "metadata": {
  "kernelspec": {
   "display_name": "Python 3",
   "language": "python",
   "name": "python3"
  },
  "language_info": {
   "codemirror_mode": {
    "name": "ipython",
    "version": 3
   },
   "file_extension": ".py",
   "mimetype": "text/x-python",
   "name": "python",
   "nbconvert_exporter": "python",
   "pygments_lexer": "ipython3",
   "version": "3.9.16"
  }
 },
 "nbformat": 4,
 "nbformat_minor": 2
}
